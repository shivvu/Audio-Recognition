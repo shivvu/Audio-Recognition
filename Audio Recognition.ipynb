{
 "cells": [
  {
   "cell_type": "code",
   "execution_count": null,
   "metadata": {},
   "outputs": [],
   "source": [
    "# converting audio into text\n",
    "import speech_recognition as sr\n",
    "\n",
    "r = sr.Recognizer()\n",
    "\n",
    "audio = 'C:\\\\Users\\\\shivvu\\\\Desktop\\\\record.wav'\n",
    "\n",
    "with sr.AudioFile(audio) as source:\n",
    "    audio = r.record(source)\n",
    "    print ('Done!')\n",
    "\n",
    "try:\n",
    "    text = r.recognize_google(audio)\n",
    "    print ('your text is {}'.format(text))\n",
    "    \n",
    "except Exception as e:\n",
    "    print (e)"
   ]
  },
  {
   "cell_type": "code",
   "execution_count": null,
   "metadata": {},
   "outputs": [],
   "source": [
    "# calculating the percentage of accuracy by matching with audio text to original text file\n",
    "with open('C:\\\\Users\\\\shivvu\\\\Desktop\\\\Expected_text.txt','r') as Expected_file:\n",
    "    Text_reader = ''.join(Expected_file.readlines())\n",
    "Text_Splitter = text.split()\n",
    "Text_reader_splitter = Text_reader.split()\n",
    "Total_words = len(Text_Splitter)\n",
    "Matched_Words = 0\n",
    "Matched_Word,Unmatched_Word, Expected_Word = [],[],[]\n",
    "for i in Text_reader.split():\n",
    "    if i in Text_Splitter:\n",
    "        Matched_Word.append(i)\n",
    "        Matched_Words+=1\n",
    "    else:\n",
    "        INDEX = Text_reader_splitter.index(i)\n",
    "        Unmatched_Word.append(Text_Splitter[INDEX])\n",
    "        Expected_Word.append(i)\n",
    "        \n",
    "Percent_Of_Accuracy = (Matched_Words/Total_words)*100\n",
    "print('{0:.2f}'.format(Percent_Of_Accuracy))"
   ]
  },
  {
   "cell_type": "code",
   "execution_count": null,
   "metadata": {},
   "outputs": [],
   "source": [
    "# creating dataframe for unmatched and expected words\n",
    "import pandas as pd\n",
    "df = pd.DataFrame({'Unmatched_Word':Unmatched_Word,'Expected_Word':Expected_Word})\n",
    "df"
   ]
  }
 ],
 "metadata": {
  "kernelspec": {
   "display_name": "Python 3",
   "language": "python",
   "name": "python3"
  },
  "language_info": {
   "codemirror_mode": {
    "name": "ipython",
    "version": 3
   },
   "file_extension": ".py",
   "mimetype": "text/x-python",
   "name": "python",
   "nbconvert_exporter": "python",
   "pygments_lexer": "ipython3",
   "version": "3.6.5"
  }
 },
 "nbformat": 4,
 "nbformat_minor": 2
}
